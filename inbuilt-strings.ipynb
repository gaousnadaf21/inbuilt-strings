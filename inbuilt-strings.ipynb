{
 "cells": [
  {
   "cell_type": "markdown",
   "id": "a4870e69-eb5f-4d1f-b751-a8d170045d81",
   "metadata": {},
   "source": [
    "#What is the purpose of the len() function in Python, and how can it be used with strings"
   ]
  },
  {
   "cell_type": "markdown",
   "id": "50fc0165-207c-4b02-884c-81aa2fa406b3",
   "metadata": {},
   "source": [
    "ans--Its purpose is to return the number of elements contained within the object"
   ]
  },
  {
   "cell_type": "code",
   "execution_count": 4,
   "id": "4f80529d-fd4b-4ea3-94bb-6a8b06db4e3c",
   "metadata": {},
   "outputs": [
    {
     "name": "stdout",
     "output_type": "stream",
     "text": [
      "Length of the string is: 12\n"
     ]
    }
   ],
   "source": [
    "my_string = \"Hello, World\"\n",
    "length = len(my_string)\n",
    "print(\"Length of the string is:\", length)\n"
   ]
  },
  {
   "cell_type": "markdown",
   "id": "69958019-ab28-4dd2-a19f-95cd5ce069bb",
   "metadata": {},
   "source": [
    "#How can you concatenate two or more strings in Python, and can you provide an example of string \n",
    "concatenation"
   ]
  },
  {
   "cell_type": "code",
   "execution_count": 2,
   "id": "4efc7809-3e28-4c34-ad09-14510ae8eb8d",
   "metadata": {},
   "outputs": [
    {
     "name": "stdout",
     "output_type": "stream",
     "text": [
      "Hello World\n"
     ]
    }
   ],
   "source": [
    "string1 = \"Hello\"\n",
    "string2 = \"World\"\n",
    "concatenated_string = string1 + \" \" + string2\n",
    "print(concatenated_string)\n"
   ]
  },
  {
   "cell_type": "markdown",
   "id": "ba4010df-7224-4d9a-ad81-89a8d9e8365e",
   "metadata": {},
   "source": [
    "#What is string slicing in Python, and how can you extract a portion of a string using this method"
   ]
  },
  {
   "cell_type": "code",
   "execution_count": 5,
   "id": "2c03b983-a300-47c1-87b1-6d91c3d35ae9",
   "metadata": {},
   "outputs": [
    {
     "name": "stdout",
     "output_type": "stream",
     "text": [
      "gaous\n"
     ]
    }
   ],
   "source": [
    "my_string = \"Hello, gaous\"\n",
    "substring = my_string[7:12]\n",
    "print(substring)\n"
   ]
  },
  {
   "cell_type": "markdown",
   "id": "bdc66558-e887-43bb-9cef-76921e830b8c",
   "metadata": {},
   "source": [
    "#How can you change the case of a string in Python, and can you provide examples of both making a string  \n",
    "all uppercase and all lowercase"
   ]
  },
  {
   "cell_type": "code",
   "execution_count": 6,
   "id": "bc00fd0b-8d7f-4a9e-98f9-5ab03141b42c",
   "metadata": {},
   "outputs": [
    {
     "name": "stdout",
     "output_type": "stream",
     "text": [
      "IMRAN,ANALYST\n",
      "imran, analyst\n"
     ]
    }
   ],
   "source": [
    "my_string = \"Imran,Analyst\"\n",
    "uppercase_string = my_string.upper()\n",
    "print(uppercase_string) \n",
    "\n",
    "\n",
    "my_string = \"imran, Analyst\"\n",
    "lowercase_string = my_string.lower()\n",
    "print(lowercase_string) \n"
   ]
  },
  {
   "cell_type": "code",
   "execution_count": null,
   "id": "8c8113d6-75c6-4b7b-b6c0-5b94763d456e",
   "metadata": {},
   "outputs": [],
   "source": []
  }
 ],
 "metadata": {
  "kernelspec": {
   "display_name": "Python 3 (ipykernel)",
   "language": "python",
   "name": "python3"
  },
  "language_info": {
   "codemirror_mode": {
    "name": "ipython",
    "version": 3
   },
   "file_extension": ".py",
   "mimetype": "text/x-python",
   "name": "python",
   "nbconvert_exporter": "python",
   "pygments_lexer": "ipython3",
   "version": "3.10.8"
  }
 },
 "nbformat": 4,
 "nbformat_minor": 5
}
